{
 "cells": [
  {
   "cell_type": "markdown",
   "metadata": {},
   "source": [
    "# Helper functions to generate the website\n",
    "\n",
    "(C) 2024 by [Damir Cavar](http://damir.cavar.me/)\n",
    "\n",
    "This is a collection of some useful functions to generate the website for the NLP-Lab."
   ]
  },
  {
   "cell_type": "code",
   "execution_count": 3,
   "metadata": {},
   "outputs": [
    {
     "name": "stdout",
     "output_type": "stream",
     "text": [
      "Defaulting to user installation because normal site-packages is not writeable\n",
      "\u001b[33mWARNING: Skipping /usr/lib/python3.12/dist-packages/pybind11-2.11.1.dist-info due to invalid metadata entry 'name'\u001b[0m\u001b[33m\n",
      "\u001b[0m\u001b[33mWARNING: Skipping /usr/lib/python3.12/dist-packages/charset_normalizer-3.3.2.dist-info due to invalid metadata entry 'name'\u001b[0m\u001b[33m\n",
      "\u001b[0mCollecting validators\n",
      "  Downloading validators-0.34.0-py3-none-any.whl.metadata (3.8 kB)\n",
      "Downloading validators-0.34.0-py3-none-any.whl (43 kB)\n",
      "\u001b[2K   \u001b[90m━━━━━━━━━━━━━━━━━━━━━━━━━━━━━━━━━━━━━━━━\u001b[0m \u001b[32m43.5/43.5 kB\u001b[0m \u001b[31m1.3 MB/s\u001b[0m eta \u001b[36m0:00:00\u001b[0m\n",
      "\u001b[?25h\u001b[33mWARNING: Skipping /usr/lib/python3.12/dist-packages/pybind11-2.11.1.dist-info due to invalid metadata entry 'name'\u001b[0m\u001b[33m\n",
      "\u001b[0m\u001b[33mWARNING: Skipping /usr/lib/python3.12/dist-packages/charset_normalizer-3.3.2.dist-info due to invalid metadata entry 'name'\u001b[0m\u001b[33m\n",
      "\u001b[0mInstalling collected packages: validators\n",
      "Successfully installed validators-0.34.0\n"
     ]
    }
   ],
   "source": [
    "!pip install -U validators"
   ]
  },
  {
   "cell_type": "code",
   "execution_count": 4,
   "metadata": {},
   "outputs": [],
   "source": [
    "from typing import List\n",
    "import os\n",
    "import validators"
   ]
  },
  {
   "cell_type": "markdown",
   "metadata": {},
   "source": [
    "The following function generates a Markdown table from a list of strings:"
   ]
  },
  {
   "cell_type": "code",
   "execution_count": 6,
   "metadata": {},
   "outputs": [],
   "source": [
    "def table_from_list(elements: List[str], columns: int=2, sort: bool=True) -> str:\n",
    "\tif columns < 1:\n",
    "\t\treturn \"\"\n",
    "\tclean_elements = [ x for x in elements if x.strip() ]\n",
    "\tif sort:\n",
    "\t\tclean_elements.sort()\n",
    "\tres = []\n",
    "\tfor elem in clean_elements:\n",
    "\t\telem_items = elem.split()\n",
    "\t\tif elem_items[0].endswith(\",\"):\n",
    "\t\t\tfamily_name = elem_items[0][:-1]\n",
    "\t\t\tfirst_name  = \" \".join(elem_items[1:-1])\n",
    "\t\telse:\n",
    "\t\t\tfamily_name = elem_items[-2]\n",
    "\t\t\tfirst_name  = \" \".join(elem_items[:-2])\n",
    "\t\turl_str = \"\" if elem_items[-1] == \"None\" else elem_items[-1]\n",
    "\t\tif url_str:\n",
    "\t\t\tres.append( f\"[{first_name} {family_name}]({url_str})\" )\n",
    "\t\telse:\n",
    "\t\t\tres.append(f\"{first_name} {family_name}\")\n",
    "\theader = \"| ------|\" + (columns - 1) * \" ------- |\"\n",
    "\tmy_result = [res[x:x + columns] for x in range(0, len(res), columns)]\n",
    "\tif len(my_result[-1]) < columns:\n",
    "\t\tmy_result[-1] += (columns * len(my_result[-1])) * [\"\"]\n",
    "\treturn \"\\n\".join([ header ] + [ \"| \" + \" | \".join(elem) + \" |\" for elem in my_result ])"
   ]
  },
  {
   "cell_type": "code",
   "execution_count": 7,
   "metadata": {},
   "outputs": [
    {
     "name": "stdout",
     "output_type": "stream",
     "text": [
      "| ------| ------- |\n",
      "| [Muhammad S. Abdo](https://www.linkedin.com/in/muhsabrys/) | Luis Abrego |\n",
      "| Nada Aggadi | Jose P. Benavides |\n",
      "| [Dr. Damir Cavar](http://damir.cavar.me/) | [Andrew Davis](https://www.linkedin.com/in/adavis94/) |\n",
      "| [Ian Devine](https://www.linkedin.com/in/ian-devine-2002/) | [Billy Dickson](https://www.linkedin.com/in/billy-dickson/) |\n",
      "| [Vance Holthenrichs](https://russian.indiana.edu/about/instructors/holthenrichs-van.html) | [Calvin Josenhans](https://halflinghelper.github.io/) |\n",
      "| Selim Kim | [Soyoung Kim](https://linguistics.indiana.edu/about/graduate-students/kim-soyoung.html) |\n",
      "| Akriti Kumari | Khaled Mohammed |\n",
      "| [Koushik Reddy Parukola](https://www.linkedin.com/in/koushik-reddy-parukola/) | Emily Reed |\n",
      "| Shane A. Sparks | [Dhananjay Srivastava](https://www.linkedin.com/in/dhananjay-srivastava/) |\n",
      "| Amy C. Stafford | [Dr. Zoran Tiganj](https://homes.luddy.indiana.edu/ztiganj/) |\n",
      "| Khai Anthony Willard | Chi Zhang |\n",
      "| [Rong Zheng](https://psych.indiana.edu/directory/graduate-students/zheng-rong.html) |  |  |\n"
     ]
    }
   ],
   "source": [
    "test_list = \"\"\"\n",
    "Cavar, Dr. Damir http://damir.cavar.me/\n",
    "Abdo, Muhammad S. https://www.linkedin.com/in/muhsabrys/\n",
    "Abrego, Luis None\n",
    "Aggadi, Nada None\n",
    "Benavides, Jose P. None\n",
    "Davis, Andrew https://www.linkedin.com/in/adavis94/\n",
    "Devine, Ian https://www.linkedin.com/in/ian-devine-2002/\n",
    "Dickson, Billy https://www.linkedin.com/in/billy-dickson/\n",
    "Holthenrichs, Vance https://russian.indiana.edu/about/instructors/holthenrichs-van.html\n",
    "Josenhans, Calvin https://halflinghelper.github.io/\n",
    "Kim, Selim None\n",
    "Kim, Soyoung https://linguistics.indiana.edu/about/graduate-students/kim-soyoung.html\n",
    "Kumari, Akriti None\n",
    "Mohammed, Khaled None\n",
    "Parukola, Koushik Reddy https://www.linkedin.com/in/koushik-reddy-parukola/\n",
    "Reed, Emily None\n",
    "Sparks, Shane A. None\n",
    "Srivastava, Dhananjay https://www.linkedin.com/in/dhananjay-srivastava/\n",
    "Stafford, Amy C. None\n",
    "Tiganj, Dr. Zoran https://homes.luddy.indiana.edu/ztiganj/\n",
    "Willard, Khai Anthony None\n",
    "Zhang, Chi None\n",
    "Zheng, Rong https://psych.indiana.edu/directory/graduate-students/zheng-rong.html\n",
    "\"\"\"\n",
    "print(table_from_list(test_list.split(\"\\n\"), 2))"
   ]
  },
  {
   "cell_type": "code",
   "execution_count": 10,
   "metadata": {},
   "outputs": [
    {
     "name": "stdout",
     "output_type": "stream",
     "text": [
      "| ------- | ------- |\n",
      "|  Aarnav | Dr. Ali Abdulaziz Aljubailan |\n",
      "| Abhishek Babuji | [Oren Baldinger](https://github.com/orenbaldinger) |\n",
      "| [Tanmayi Balla](https://www.linkedin.com/in/tanmayiballa) | [Rohit Bapat](https://github.com/rohitbapat/) |\n",
      "| [Aarushi Bisht](https://github.com/aarushiibisht) | [Jagpreet Singh Chawla](https://github.com/jagpreetschawla) |\n",
      "| Aravind Dendukuri | Shreeja Deshpanbe |\n",
      "| [Rushabh Dharia](https://github.com/rushabhdharia) | Josephine Douglas |\n",
      "| [Boli Fang](https://github.com/blf11139) | [Matthew Fort](https://www.linkedin.com/in/matthew-fort-07b802236/) |\n",
      "| [Maanvitha Gongalla](https://github.com/maanvithag) | [Peace Han](https://github.com/P-eaceHan) |\n",
      "| [Murali Kishore Varma Kammili](https://github.com/mkvk) | [Anurag Kumar](https://github.com/anuragkumar95) |\n",
      "| Gordon Elliot Lichtstein | [Shujun Liu](https://github.com/liu-shuj/) |\n",
      "| [MacIntosh Phillips, John](https://github.com/jackp1377) | Anshul Kumar Mangalapalli |\n",
      "| [Umang Mehta](https://umangrmehta.github.io/) | [Dr. Anthony Meyer](https://www.linkedin.com/in/antmeyer408/) |\n",
      "| [Dr. Ludovic Mompelat](https://www.linkedin.com/in/ludovic-mompelat-8a1960b8/) | [Shreejith Panicker](https://skpanick.github.io/) |\n",
      "| [Chaitanya Patil](https://github.com/Chaitz333) | Harshwardhan Raghunath Patil |\n",
      "| [Restrepo Ramos, Dr. Falcon Dario](https://www.linkedin.com/in/falcon-restrepo-ramos-657b74203/) | [Animesh Sagar](https://github.com/animeshsagar) |\n",
      "| [Gopal Seshadri](https://github.com/GopalSeshadri) | Surya Prateek Soni |\n",
      "| [Ashutosh Tiwari](https://www.linkedin.com/in/ashutosh--tiwari/) | [Dr. Yuna Won](http://www.yunawon.net) |\n",
      "| Kimball Wu | Yuchen Yang |\n",
      "| [Yiwen Zhang](https://github.com/yiwenzh29) |  |\n"
     ]
    }
   ],
   "source": [
    "test_list = \"\"\"\n",
    "Aarnav, None\n",
    "Aljubailan, Dr. Ali Abdulaziz  None\n",
    "Baldinger, Oren  https://github.com/orenbaldinger\n",
    "Babuji, Abhishek  None\n",
    "Balla, Tanmayi  https://www.linkedin.com/in/tanmayiballa\n",
    "Bapat, Rohit  https://github.com/rohitbapat/\n",
    "Bisht, Aarushi  https://github.com/aarushiibisht\n",
    "Dharia, Rushabh  https://github.com/rushabhdharia\n",
    "Dendukuri, Aravind  None\n",
    "Deshpanbe, Shreeja  None\n",
    "Douglas, Josephine  None\n",
    "Lichtstein, Gordon Elliot  None\n",
    "Fang, Boli  https://github.com/blf11139\n",
    "Fort, Matthew  https://www.linkedin.com/in/matthew-fort-07b802236/\n",
    "Gongalla, Maanvitha  https://github.com/maanvithag\n",
    "Han, Peace  https://github.com/P-eaceHan\n",
    "Kammili, Murali Kishore Varma  https://github.com/mkvk\n",
    "Kumar, Anurag  https://github.com/anuragkumar95\n",
    "Liu, Shujun  https://github.com/liu-shuj/\n",
    "MacIntosh Phillips, John  https://github.com/jackp1377\n",
    "Mehta, Umang  https://umangrmehta.github.io/\n",
    "Mangalapalli, Anshul Kumar  None\n",
    "Meyer, Dr. Anthony  https://www.linkedin.com/in/antmeyer408/\n",
    "Mompelat, Dr. Ludovic  https://www.linkedin.com/in/ludovic-mompelat-8a1960b8/\n",
    "Patil, Harshwardhan Raghunath  None\n",
    "Panicker, Shreejith  https://skpanick.github.io/\n",
    "Patil, Chaitanya  https://github.com/Chaitz333\n",
    "Restrepo Ramos, Dr. Falcon Dario  https://www.linkedin.com/in/falcon-restrepo-ramos-657b74203/\n",
    "Sagar, Animesh  https://github.com/animeshsagar\n",
    "Seshadri, Gopal  https://github.com/GopalSeshadri\n",
    "Chawla, Jagpreet Singh  https://github.com/jagpreetschawla\n",
    "Soni, Surya Prateek  None\n",
    "Tiwari, Ashutosh  https://www.linkedin.com/in/ashutosh--tiwari/\n",
    "Won, Dr. Yuna  http://www.yunawon.net\n",
    "Wu, Kimball  None\n",
    "Zhang, Yiwen  https://github.com/yiwenzh29\n",
    "Yang, Yuchen  None\n",
    "\"\"\"\n",
    "print(table_from_list(test_list.split(\"\\n\"), 2))"
   ]
  }
 ],
 "metadata": {
  "kernelspec": {
   "display_name": "Python 3",
   "language": "python",
   "name": "python3"
  },
  "language_info": {
   "codemirror_mode": {
    "name": "ipython",
    "version": 3
   },
   "file_extension": ".py",
   "mimetype": "text/x-python",
   "name": "python",
   "nbconvert_exporter": "python",
   "pygments_lexer": "ipython3",
   "version": "3.12.3"
  }
 },
 "nbformat": 4,
 "nbformat_minor": 2
}
