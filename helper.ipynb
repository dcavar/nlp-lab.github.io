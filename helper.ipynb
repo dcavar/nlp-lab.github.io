{
 "cells": [
  {
   "cell_type": "markdown",
   "metadata": {},
   "source": [
    "# Helper functions to generate the website\n",
    "\n",
    "(C) 2024 by [Damir Cavar](http://damir.cavar.me/)\n",
    "\n",
    "This is a collection of some useful functions to generate the website for the NLP-Lab."
   ]
  },
  {
   "cell_type": "code",
   "execution_count": 1,
   "metadata": {},
   "outputs": [
    {
     "name": "stdout",
     "output_type": "stream",
     "text": [
      "Collecting validators\n",
      "  Downloading validators-0.35.0-py3-none-any.whl.metadata (3.9 kB)\n",
      "Downloading validators-0.35.0-py3-none-any.whl (44 kB)\n",
      "Installing collected packages: validators\n",
      "Successfully installed validators-0.35.0\n"
     ]
    }
   ],
   "source": [
    "!pip install -U validators"
   ]
  },
  {
   "cell_type": "code",
   "execution_count": 2,
   "metadata": {},
   "outputs": [],
   "source": [
    "from typing import List\n",
    "import os\n",
    "import validators"
   ]
  },
  {
   "cell_type": "markdown",
   "metadata": {},
   "source": [
    "The following function generates a Markdown table from a list of strings:"
   ]
  },
  {
   "cell_type": "code",
   "execution_count": 3,
   "metadata": {},
   "outputs": [],
   "source": [
    "def table_from_list(elements: List[str], columns: int=2, sort: bool=True) -> str:\n",
    "\tif columns < 1:\n",
    "\t\treturn \"\"\n",
    "\tclean_elements = [ x for x in elements if x.strip() ]\n",
    "\tif sort:\n",
    "\t\tclean_elements.sort()\n",
    "\tres = []\n",
    "\tfor elem in clean_elements:\n",
    "\t\telem_items = elem.split()\n",
    "\t\tif elem_items[0].endswith(\",\"):\n",
    "\t\t\tfamily_name = elem_items[0][:-1]\n",
    "\t\t\tfirst_name  = \" \".join(elem_items[1:-1])\n",
    "\t\telse:\n",
    "\t\t\tfamily_name = elem_items[-2]\n",
    "\t\t\tfirst_name  = \" \".join(elem_items[:-2])\n",
    "\t\turl_str = \"\" if elem_items[-1] == \"None\" else elem_items[-1]\n",
    "\t\tif url_str:\n",
    "\t\t\tres.append( f\"[{first_name} {family_name}]({url_str})\" )\n",
    "\t\telse:\n",
    "\t\t\tres.append(f\"{first_name} {family_name}\")\n",
    "\theader = \"| ------|\" + (columns - 1) * \" ------- |\"\n",
    "\tmy_result = [res[x:x + columns] for x in range(0, len(res), columns)]\n",
    "\tif len(my_result[-1]) < columns:\n",
    "\t\tmy_result[-1] += (columns * len(my_result[-1])) * [\"\"]\n",
    "\treturn \"\\n\".join([ header ] + [ \"| \" + \" | \".join(elem) + \" |\" for elem in my_result ])"
   ]
  },
  {
   "cell_type": "code",
   "execution_count": 4,
   "metadata": {},
   "outputs": [
    {
     "name": "stdout",
     "output_type": "stream",
     "text": [
      "| ------| ------- |\n",
      "| [Muhammad S. Abdo](https://www.linkedin.com/in/muhsabrys/) | [Dr. Damir Cavar](http://damir.cavar.me/) |\n",
      "| [Andrew Davis](https://www.linkedin.com/in/adavis94/) | [Billy Dickson](https://www.linkedin.com/in/billy-dickson/) |\n",
      "| [James Bryan Graves](https://jamesbryangraves.com/) | [Vance Holthenrichs](https://russian.indiana.edu/about/instructors/holthenrichs-van.html) |\n",
      "| [Jiaqi (Adam) Huang](https://sites.google.com/view/jiaqihuang) | Selim Kim |\n",
      "| [Soyoung Kim](https://linguistics.indiana.edu/about/graduate-students/kim-soyoung.html) | [Kumar Koushik, Telaprolu](https://www.linkedin.com/in/telaprolu-kumarkoushik/) |\n",
      "| [Dr. Nicholas LaRacuente](https://www.linkedin.com/in/nicklaracuente/) | [Elias Naske](https://www.linkedin.com/in/elias-naske/) |\n",
      "| [Ananth Karkala Pai](https://www.linkedin.com/in/ananth-pai-692b241b6/) | [Koushik Reddy Parukola](https://www.linkedin.com/in/koushik-reddy-parukola/) |\n",
      "| [Shane A. Sparks](https://www.linkedin.com/in/shane-sparks-a37832249/) | Amy C. Stafford |\n",
      "| Ling Sun | Jayapraksh Theyaneshwaran |\n",
      "| [Dr. Zoran Tiganj](https://homes.luddy.indiana.edu/ztiganj/) | [Dr. Danny Valdez](https://publichealth.indiana.edu/about/directory/profile.html?user=danvald) |\n",
      "| [Rong Zheng](https://psych.indiana.edu/directory/graduate-students/zheng-rong.html) |  |  |\n"
     ]
    }
   ],
   "source": [
    "test_list = \"\"\"\n",
    "Cavar, Dr. Damir http://damir.cavar.me/\n",
    "Valdez, Dr. Danny https://publichealth.indiana.edu/about/directory/profile.html?user=danvald\n",
    "Abdo, Muhammad S. https://www.linkedin.com/in/muhsabrys/\n",
    "Davis, Andrew https://www.linkedin.com/in/adavis94/\n",
    "Dickson, Billy https://www.linkedin.com/in/billy-dickson/\n",
    "Holthenrichs, Vance https://russian.indiana.edu/about/instructors/holthenrichs-van.html\n",
    "Kim, Selim None\n",
    "Kim, Soyoung https://linguistics.indiana.edu/about/graduate-students/kim-soyoung.html\n",
    "Parukola, Koushik Reddy https://www.linkedin.com/in/koushik-reddy-parukola/\n",
    "Sparks, Shane A. https://www.linkedin.com/in/shane-sparks-a37832249/\n",
    "Stafford, Amy C. None\n",
    "Tiganj, Dr. Zoran https://homes.luddy.indiana.edu/ztiganj/\n",
    "Zheng, Rong https://psych.indiana.edu/directory/graduate-students/zheng-rong.html\n",
    "Naske, Elias https://www.linkedin.com/in/elias-naske/\n",
    "Kumar Koushik, Telaprolu https://www.linkedin.com/in/telaprolu-kumarkoushik/\n",
    "Graves, James Bryan https://jamesbryangraves.com/\n",
    "Huang, Jiaqi (Adam) https://sites.google.com/view/jiaqihuang\n",
    "Sun, Ling None\n",
    "LaRacuente, Dr. Nicholas https://www.linkedin.com/in/nicklaracuente/\n",
    "Pai, Ananth Karkala https://www.linkedin.com/in/ananth-pai-692b241b6/\n",
    "Theyaneshwaran, Jayapraksh None\n",
    "\"\"\"\n",
    "print(table_from_list(test_list.split(\"\\n\"), 2))"
   ]
  },
  {
   "cell_type": "code",
   "execution_count": 5,
   "metadata": {},
   "outputs": [
    {
     "name": "stdout",
     "output_type": "stream",
     "text": [
      "| ------| ------- |\n",
      "|  Aarnav | Luis Abrego |\n",
      "| Nada Aggadi | Dr. Ali Abdulaziz Aljubailan |\n",
      "| Abhishek Babuji | [Oren Baldinger](https://github.com/orenbaldinger) |\n",
      "| [Tanmayi Balla](https://www.linkedin.com/in/tanmayiballa) | [Rohit Bapat](https://github.com/rohitbapat/) |\n",
      "| Jose P. Benavides | [Aarushi Bisht](https://github.com/aarushiibisht) |\n",
      "| [Jagpreet Singh Chawla](https://github.com/jagpreetschawla) | Aravind Dendukuri |\n",
      "| Shreeja Deshpanbe | [Ian Devine](https://www.linkedin.com/in/ian-devine-2002/) |\n",
      "| [Rushabh Dharia](https://github.com/rushabhdharia) | Josephine Douglas |\n",
      "| [Dr. Boli Fang](https://github.com/blf11139) | [Matthew Fort](https://www.linkedin.com/in/matthew-fort-07b802236/) |\n",
      "| [Benjamin Glidden](https://www.linkedin.com/in/benjamin-glidden/) | [Maanvitha Gongalla](https://github.com/maanvithag) |\n",
      "| [Peace Han](https://github.com/P-eaceHan) | Shusuke Hashimoto |\n",
      "| Armando Hull | [Calvin Josenhans](https://halflinghelper.github.io/) |\n",
      "| [Murali Kishore Varma Kammili](https://github.com/mkvk) | [Anurag Kumar](https://github.com/anuragkumar95) |\n",
      "| [Akriti Kumari](https://www.linkedin.com/in/akriti-kumari-321362218/) | Gordon Elliot Lichtstein |\n",
      "| [Shujun Liu](https://github.com/liu-shuj/) | [MacIntosh Phillips, John](https://github.com/jackp1377) |\n",
      "| Anshul Kumar Mangalapalli | [Umang Mehta](https://umangrmehta.github.io/) |\n",
      "| [Dr. Anthony Meyer](https://www.linkedin.com/in/antmeyer408/) | Khaled Mohammed |\n",
      "| [Dr. Ludovic Mompelat](https://www.linkedin.com/in/ludovic-mompelat-8a1960b8/) | [Shreejith Panicker](https://skpanick.github.io/) |\n",
      "| [Chaitanya Patil](https://github.com/Chaitz333) | Harshwardhan Raghunath Patil |\n",
      "| Emily Reed | [Restrepo Ramos, Dr. Falcon Dario](https://www.linkedin.com/in/falcon-restrepo-ramos-657b74203/) |\n",
      "| [Animesh Sagar](https://github.com/animeshsagar) | [Gopal Seshadri](https://github.com/GopalSeshadri) |\n",
      "| Victor Shi | Surya Prateek Soni |\n",
      "| [Dhananjay Srivastava](https://www.linkedin.com/in/dhananjay-srivastava/) | [Ashutosh Tiwari](https://www.linkedin.com/in/ashutosh--tiwari/) |\n",
      "| Khai Anthony Willard | [Dr. Yuna Won](http://www.yunawon.net) |\n",
      "| Kimball Wu | Yuchen Yang |\n",
      "| Chi Zhang | [Yiwen Zhang](https://github.com/yiwenzh29) |\n"
     ]
    }
   ],
   "source": [
    "test_list = \"\"\"\n",
    "Abrego, Luis None\n",
    "Benavides, Jose P. None\n",
    "Glidden, Benjamin https://www.linkedin.com/in/benjamin-glidden/\n",
    "Shi, Victor None\n",
    "Kumari, Akriti https://www.linkedin.com/in/akriti-kumari-321362218/\n",
    "Aggadi, Nada None\n",
    "Hull, Armando None\n",
    "Hashimoto, Shusuke None\n",
    "Zhang, Chi None\n",
    "Reed, Emily None\n",
    "Mohammed, Khaled None\n",
    "Aarnav, None\n",
    "Srivastava, Dhananjay https://www.linkedin.com/in/dhananjay-srivastava/\n",
    "Willard, Khai Anthony None\n",
    "Josenhans, Calvin https://halflinghelper.github.io/\n",
    "Aljubailan, Dr. Ali Abdulaziz  None\n",
    "Devine, Ian https://www.linkedin.com/in/ian-devine-2002/\n",
    "Baldinger, Oren  https://github.com/orenbaldinger\n",
    "Babuji, Abhishek  None\n",
    "Balla, Tanmayi  https://www.linkedin.com/in/tanmayiballa\n",
    "Bapat, Rohit  https://github.com/rohitbapat/\n",
    "Bisht, Aarushi  https://github.com/aarushiibisht\n",
    "Dharia, Rushabh  https://github.com/rushabhdharia\n",
    "Dendukuri, Aravind  None\n",
    "Deshpanbe, Shreeja  None\n",
    "Douglas, Josephine  None\n",
    "Lichtstein, Gordon Elliot  None\n",
    "Fang, Dr. Boli  https://github.com/blf11139\n",
    "Fort, Matthew  https://www.linkedin.com/in/matthew-fort-07b802236/\n",
    "Gongalla, Maanvitha  https://github.com/maanvithag\n",
    "Han, Peace  https://github.com/P-eaceHan\n",
    "Kammili, Murali Kishore Varma  https://github.com/mkvk\n",
    "Kumar, Anurag  https://github.com/anuragkumar95\n",
    "Liu, Shujun  https://github.com/liu-shuj/\n",
    "MacIntosh Phillips, John  https://github.com/jackp1377\n",
    "Mehta, Umang  https://umangrmehta.github.io/\n",
    "Mangalapalli, Anshul Kumar  None\n",
    "Meyer, Dr. Anthony  https://www.linkedin.com/in/antmeyer408/\n",
    "Mompelat, Dr. Ludovic  https://www.linkedin.com/in/ludovic-mompelat-8a1960b8/\n",
    "Patil, Harshwardhan Raghunath  None\n",
    "Panicker, Shreejith  https://skpanick.github.io/\n",
    "Patil, Chaitanya  https://github.com/Chaitz333\n",
    "Restrepo Ramos, Dr. Falcon Dario  https://www.linkedin.com/in/falcon-restrepo-ramos-657b74203/\n",
    "Sagar, Animesh  https://github.com/animeshsagar\n",
    "Seshadri, Gopal  https://github.com/GopalSeshadri\n",
    "Chawla, Jagpreet Singh  https://github.com/jagpreetschawla\n",
    "Soni, Surya Prateek  None\n",
    "Tiwari, Ashutosh  https://www.linkedin.com/in/ashutosh--tiwari/\n",
    "Won, Dr. Yuna  http://www.yunawon.net\n",
    "Wu, Kimball  None\n",
    "Zhang, Yiwen  https://github.com/yiwenzh29\n",
    "Yang, Yuchen  None\n",
    "\"\"\"\n",
    "print(table_from_list(test_list.split(\"\\n\"), 2))"
   ]
  }
 ],
 "metadata": {
  "kernelspec": {
   "display_name": "Python 3",
   "language": "python",
   "name": "python3"
  },
  "language_info": {
   "codemirror_mode": {
    "name": "ipython",
    "version": 3
   },
   "file_extension": ".py",
   "mimetype": "text/x-python",
   "name": "python",
   "nbconvert_exporter": "python",
   "pygments_lexer": "ipython3",
   "version": "3.13.7"
  }
 },
 "nbformat": 4,
 "nbformat_minor": 2
}
